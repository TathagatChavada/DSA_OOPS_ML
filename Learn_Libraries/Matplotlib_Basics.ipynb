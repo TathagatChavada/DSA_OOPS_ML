{
 "cells": [
  {
   "attachments": {},
   "cell_type": "markdown",
   "metadata": {},
   "source": [
    "Line Graph"
   ]
  },
  {
   "cell_type": "code",
   "execution_count": null,
   "metadata": {},
   "outputs": [],
   "source": [
    "import matplotlib.pyplot as plt\n",
    "import numpy as np\n",
    "import pandas as pd\n",
    "\n",
    "# Select the interval at which you want to print graph\n",
    "a = np.arange(0,10,0.1)\n",
    "x = np.cos(a)\n",
    "y = np.sin(a)\n",
    "\n",
    "# Axis labels\n",
    "plt.xlabel(\"Random Input Values\")\n",
    "plt.ylabel(\"Result in sin & cos of x\")\n",
    "\n",
    "# plt.figure(figsize=(7,6))\n",
    "\n",
    "# Title of the line graph\n",
    "plt.title(\"Sin & Cos Graph\")\n",
    "\n",
    "# Plotting the graph\n",
    "plt.plot(a[:51],x[:51], label = \"Cos(x)\")\n",
    "plt.plot(a[50:],x[50:],'b--')\n",
    "plt.plot(a,y, 'r:o', ms = 1, label = 'Sin(x)')\n",
    "\n",
    "plt.legend(loc = \"best\")\n",
    "\n",
    "plt.show()"
   ]
  },
  {
   "attachments": {},
   "cell_type": "markdown",
   "metadata": {},
   "source": [
    "Bar Graph"
   ]
  },
  {
   "cell_type": "code",
   "execution_count": null,
   "metadata": {},
   "outputs": [],
   "source": [
    "x = np.array(['A','B','C','D'])\n",
    "y = np.array([3,8,1,10])\n",
    "\n",
    "plt.subplot()\n",
    "plt.bar(x,y)\n",
    "plt.show()"
   ]
  }
 ],
 "metadata": {
  "kernelspec": {
   "display_name": "Python 3",
   "language": "python",
   "name": "python3"
  },
  "language_info": {
   "codemirror_mode": {
    "name": "ipython",
    "version": 3
   },
   "file_extension": ".py",
   "mimetype": "text/x-python",
   "name": "python",
   "nbconvert_exporter": "python",
   "pygments_lexer": "ipython3",
   "version": "3.11.2"
  },
  "orig_nbformat": 4
 },
 "nbformat": 4,
 "nbformat_minor": 2
}
