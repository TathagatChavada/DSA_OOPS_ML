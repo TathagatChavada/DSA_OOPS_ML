{
 "cells": [
  {
   "cell_type": "markdown",
   "id": "b74cd1d8-7f68-4618-a10e-05656cc019dc",
   "metadata": {},
   "source": [
    "# Pandas Basics"
   ]
  },
  {
   "cell_type": "markdown",
   "id": "ea32f92b-8cd1-489a-a3cc-04e886afb468",
   "metadata": {},
   "source": [
    "## Loading Data into Notebook"
   ]
  },
  {
   "cell_type": "code",
   "execution_count": 31,
   "id": "7dee34ba-9e68-4a00-aac1-c0784c9c4639",
   "metadata": {},
   "outputs": [],
   "source": [
    "import pandas as pd\n",
    "\n",
    "data = pd.read_csv(\"pokemon_data.csv\")\n",
    "\n",
    "# df = pd.DataFrame(data)\n",
    "# print(data.head(3)) # Returns Top 3 rows\n",
    "# print(data.tail(3)) # Returns Bottom 3 rows\n",
    "\n",
    "# print(data.info()) # retruns the detail do data"
   ]
  },
  {
   "cell_type": "markdown",
   "id": "afa8bbfa-b0d7-4d2e-9317-daf6042f8e46",
   "metadata": {},
   "source": [
    "## Reading Data"
   ]
  },
  {
   "cell_type": "code",
   "execution_count": 60,
   "id": "65ad4325-5157-49d7-acd2-274d080d691b",
   "metadata": {
    "scrolled": true
   },
   "outputs": [],
   "source": [
    "# Returns Header\n",
    "# print(data.columns)\n",
    "\n",
    "# Returns Data of the specified columns upto specified rows\n",
    "# print(data[[\"Name\", \"Attack\", \"Defense\"]][0:4])\n",
    "\n",
    "# Read each row\n",
    "# data[0:4]\n",
    "\n",
    "# for i, r in data.iterrows():\n",
    "#     print(r[\"Name\"])\n",
    "\n",
    "# Read a particular data\n",
    "# print(data.iloc[3,1])\n",
    "# df = data.loc[data[\"Type 1\"] == \"Fire\"]\n",
    "\n",
    "# df.head(4)"
   ]
  },
  {
   "cell_type": "markdown",
   "id": "e45e5df2-185f-4220-880c-5bf59385f196",
   "metadata": {},
   "source": [
    "## Sorting & Describing"
   ]
  },
  {
   "cell_type": "code",
   "execution_count": 59,
   "id": "07aa4565-92c2-40cf-94d8-fae8570a264e",
   "metadata": {},
   "outputs": [],
   "source": [
    "# data.describe()\n",
    "\n",
    "# data.sort_values([\"Type 1\", \"HP\"], ascending=[1,0])"
   ]
  },
  {
   "cell_type": "markdown",
   "id": "548b1d5f-6ed5-4eac-b565-d47b9955e5d3",
   "metadata": {},
   "source": [
    "## Making changes to the data"
   ]
  },
  {
   "cell_type": "code",
   "execution_count": null,
   "id": "aaaf6ee9-7d8e-497e-aab2-44b442ea9ccc",
   "metadata": {},
   "outputs": [],
   "source": []
  }
 ],
 "metadata": {
  "kernelspec": {
   "display_name": "Python 3 (ipykernel)",
   "language": "python",
   "name": "python3"
  },
  "language_info": {
   "codemirror_mode": {
    "name": "ipython",
    "version": 3
   },
   "file_extension": ".py",
   "mimetype": "text/x-python",
   "name": "python",
   "nbconvert_exporter": "python",
   "pygments_lexer": "ipython3",
   "version": "3.11.2"
  },
  "widgets": {
   "application/vnd.jupyter.widget-state+json": {
    "state": {},
    "version_major": 2,
    "version_minor": 0
   }
  }
 },
 "nbformat": 4,
 "nbformat_minor": 5
}
