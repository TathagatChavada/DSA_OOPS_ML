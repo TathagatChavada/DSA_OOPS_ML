{
 "cells": [
  {
   "cell_type": "markdown",
   "id": "f0e057c5-55d1-4a33-b040-c1abd8b776e8",
   "metadata": {},
   "source": [
    "# Numpy Basics"
   ]
  },
  {
   "cell_type": "markdown",
   "id": "ddefea7e-88fa-4dcd-91b9-4e2c2dd2753f",
   "metadata": {},
   "source": [
    "## Array"
   ]
  },
  {
   "cell_type": "code",
   "execution_count": 3,
   "id": "d796e206-d308-4834-ba20-9d6a69b0dca7",
   "metadata": {},
   "outputs": [
    {
     "name": "stdout",
     "output_type": "stream",
     "text": [
      "[1 2 3 4]\n"
     ]
    }
   ],
   "source": [
    "import numpy as np\n",
    "\n",
    "a = np.array([1,2,3,4])\n",
    "print(a)"
   ]
  },
  {
   "cell_type": "code",
   "execution_count": 4,
   "id": "cb6b43f2-1df9-4493-b3cd-cd9b69362b43",
   "metadata": {},
   "outputs": [
    {
     "name": "stdout",
     "output_type": "stream",
     "text": [
      "[0. 0. 0. 0.]\n"
     ]
    }
   ],
   "source": [
    "a = np.zeros(4)\n",
    "print(a)"
   ]
  },
  {
   "cell_type": "code",
   "execution_count": 5,
   "id": "400ebc54-6f73-4e68-9fb4-bfb1d8a8606e",
   "metadata": {},
   "outputs": [
    {
     "name": "stdout",
     "output_type": "stream",
     "text": [
      "[1 2 3 4 5 6 7 8 9]\n"
     ]
    }
   ],
   "source": [
    "b = np.arange(1,10)\n",
    "# b = np.arange(1,10,2) Every 2nd element will be printed\n",
    "print(b)"
   ]
  },
  {
   "cell_type": "code",
   "execution_count": 6,
   "id": "c0e95b23-3f60-4dfc-8bd8-f0b731225940",
   "metadata": {},
   "outputs": [
    {
     "name": "stdout",
     "output_type": "stream",
     "text": [
      "[0.34783427 0.48544209 0.51501774 0.71990989 0.93177181]\n"
     ]
    }
   ],
   "source": [
    "b = np.random.rand(5)\n",
    "print(b)"
   ]
  },
  {
   "cell_type": "code",
   "execution_count": 7,
   "id": "a2b0d387-b126-4aa8-be27-aa41b4e36a68",
   "metadata": {},
   "outputs": [
    {
     "name": "stdout",
     "output_type": "stream",
     "text": [
      "[[0. 0. 0.]\n",
      " [0. 0. 0.]\n",
      " [0. 0. 0.]]\n",
      "2\n"
     ]
    }
   ],
   "source": [
    "a = np.zeros((3,3))# 2-d array of 3R and 3C\n",
    "print(a)\n",
    "print(a.ndim) #print the dimension of the array"
   ]
  },
  {
   "cell_type": "code",
   "execution_count": 8,
   "id": "5c04daa9-68f9-4ac8-8d1e-cc3711b639b0",
   "metadata": {},
   "outputs": [
    {
     "name": "stdout",
     "output_type": "stream",
     "text": [
      "[[[3 3 3]\n",
      "  [3 3 3]\n",
      "  [3 3 3]]]\n",
      "3\n",
      "Datatype of a is: int64\n"
     ]
    }
   ],
   "source": [
    "a = np.full((1,3,3),3, dtype=\"int64\") # 3-d array with 3 as its element\n",
    "print(a)\n",
    "print(a.ndim) \n",
    "print(\"Datatype of a is:\",a.dtype) \n"
   ]
  },
  {
   "cell_type": "code",
   "execution_count": 9,
   "id": "886d7f06-9d52-481b-98dc-f03a33919835",
   "metadata": {},
   "outputs": [
    {
     "name": "stdout",
     "output_type": "stream",
     "text": [
      "[0 0 0]\n"
     ]
    }
   ],
   "source": [
    "b = np.random.rand(3)\n",
    "print(b.astype(\"int\"))"
   ]
  },
  {
   "cell_type": "markdown",
   "id": "fcf10a4c-b0ba-463a-8dda-8fc1e659fd2f",
   "metadata": {},
   "source": [
    "## Array attributes"
   ]
  },
  {
   "cell_type": "code",
   "execution_count": 10,
   "id": "2c013b79-0822-4037-be96-fa8acd4849d2",
   "metadata": {},
   "outputs": [
    {
     "name": "stdout",
     "output_type": "stream",
     "text": [
      "[1 2 3 4]\n"
     ]
    }
   ],
   "source": [
    "c = np.array([1,2,3,4],dtype=\"int64\")\n",
    "print(c)"
   ]
  },
  {
   "cell_type": "code",
   "execution_count": 11,
   "id": "42b60e6c-cca5-4f8e-92f0-de4a75e19aaa",
   "metadata": {},
   "outputs": [
    {
     "name": "stdout",
     "output_type": "stream",
     "text": [
      "4\n"
     ]
    }
   ],
   "source": [
    "# \"size\" attribute returns the total no. of elements in the array\n",
    "print(c.size)"
   ]
  },
  {
   "cell_type": "code",
   "execution_count": 12,
   "id": "e7993781-cd5e-4103-99c6-92d7101296ed",
   "metadata": {},
   "outputs": [
    {
     "name": "stdout",
     "output_type": "stream",
     "text": [
      "8\n"
     ]
    }
   ],
   "source": [
    "# \"itemsize\" attribute returns size in bytes of each element of the array\n",
    "print(c.itemsize)"
   ]
  },
  {
   "cell_type": "code",
   "execution_count": 13,
   "id": "3c5d6c38-9f2d-4917-a161-f1daba80e09c",
   "metadata": {},
   "outputs": [
    {
     "name": "stdout",
     "output_type": "stream",
     "text": [
      "<memory at 0x00000118BC023340>\n"
     ]
    }
   ],
   "source": [
    "# \"data\" attribute is like a pointer to the memory location where the array's data is stored in the computer's memory.\n",
    "print(c.data)"
   ]
  },
  {
   "cell_type": "markdown",
   "id": "bf0ebd17-b734-4c90-a2e1-88f6ffb9da82",
   "metadata": {},
   "source": [
    "## Input/Output"
   ]
  },
  {
   "cell_type": "code",
   "execution_count": 14,
   "id": "ad4c34ec-d6b5-4ec4-be1b-4cf780e540f2",
   "metadata": {},
   "outputs": [
    {
     "name": "stdout",
     "output_type": "stream",
     "text": [
      "[1 2 3 4 5]\n"
     ]
    }
   ],
   "source": [
    "# save()\tsaves an array to a binary file in the NumPy .npy format.\n",
    "# load()\tloads data from a binary file in the NumPy .npy format\n",
    "arr = np.array([1,2,3,4,5])\n",
    "\n",
    "np.save(\"np_array.npy\", arr)\n",
    "\n",
    "loaded_array = np.load(\"np_array.npy\")\n",
    "print(loaded_array)"
   ]
  },
  {
   "cell_type": "code",
   "execution_count": 15,
   "id": "8f270f57-17ce-4243-8a7a-77acb6404e00",
   "metadata": {},
   "outputs": [
    {
     "name": "stdout",
     "output_type": "stream",
     "text": [
      "[10. 20. 30. 40.]\n"
     ]
    }
   ],
   "source": [
    "# savetxt()\tsaves an array to a text file in a specific format\n",
    "# loadtxt()\tloads data from a text file.\n",
    "\n",
    "arr2 = np.array([10,20,30,40])\n",
    "np.savetxt(\"Text_array.txt\", arr2)\n",
    "\n",
    "loaded_text_array = np.loadtxt(\"Text_array.txt\")\n",
    "\n",
    "print(loaded_text_array)"
   ]
  },
  {
   "cell_type": "markdown",
   "id": "13bb29d0-0fec-44c2-af72-e30ca599869e",
   "metadata": {},
   "source": [
    "## Array Indexing"
   ]
  },
  {
   "cell_type": "code",
   "execution_count": 16,
   "id": "242bf75f-8568-4f92-976c-bb7dce028434",
   "metadata": {},
   "outputs": [
    {
     "name": "stdout",
     "output_type": "stream",
     "text": [
      "2\n",
      "[ 1  2  3 40  5  6]\n",
      "[1 2 3]\n",
      "[20  2 20 40  5  6]\n"
     ]
    }
   ],
   "source": [
    "array1 = np.array([1,2,3,4,5,6])\n",
    "print(array1[1])\n",
    "\n",
    "array1[3] = 40\n",
    "print(array1)\n",
    "print(array1[0:3])\n",
    "array1[0:4:2] = 20\n",
    "print(array1)"
   ]
  },
  {
   "cell_type": "code",
   "execution_count": 17,
   "id": "31f6c2f3-e69a-4c97-ae23-1062b0654dd6",
   "metadata": {},
   "outputs": [
    {
     "name": "stdout",
     "output_type": "stream",
     "text": [
      "[[1 3 5]\n",
      " [7 9 2]\n",
      " [4 6 8]]\n",
      "[7 9 2]\n",
      "8\n",
      "[3 9 6]\n"
     ]
    }
   ],
   "source": [
    "array1 = np.array([[1, 3, 5], [7, 9, 2], [4, 6, 8]])\n",
    "\n",
    "print(array1)\n",
    "print(array1[1])   # Accessing 2nd row\n",
    "print(array1[2,2])\n",
    "\n",
    "print(array1[:,1]) # Accessing 2nd column"
   ]
  },
  {
   "cell_type": "markdown",
   "id": "1a24ef94-4948-483a-9946-2e7c4ad3f98a",
   "metadata": {},
   "source": [
    "## Reshaping Array"
   ]
  },
  {
   "cell_type": "code",
   "execution_count": 18,
   "id": "87a5c664-d46a-4ac6-999a-0a27f5e04a77",
   "metadata": {},
   "outputs": [
    {
     "name": "stdout",
     "output_type": "stream",
     "text": [
      "[0 1 2 3 4 5 6 7]\n",
      "[[0 1 2 3]\n",
      " [4 5 6 7]]\n",
      "\n",
      "\n",
      "[[[0 1]\n",
      "  [2 3]]\n",
      "\n",
      " [[4 5]\n",
      "  [6 7]]]\n"
     ]
    }
   ],
   "source": [
    "arr = np.arange(8)\n",
    "print(arr)\n",
    "\n",
    "new_arr = np.reshape(arr, (2,4))\n",
    "print(new_arr)\n",
    "print(\"\\n\")\n",
    "\n",
    "new_arr2 = np.reshape(arr, (2,2,2))\n",
    "print(new_arr2)\n"
   ]
  },
  {
   "cell_type": "markdown",
   "id": "3c02f406-44b9-40d5-8dab-21867b7e397c",
   "metadata": {},
   "source": [
    "## Matrix Operation"
   ]
  },
  {
   "cell_type": "code",
   "execution_count": 26,
   "id": "46a246a1-b348-4742-810c-3d1550f82eb7",
   "metadata": {},
   "outputs": [
    {
     "name": "stdout",
     "output_type": "stream",
     "text": [
      "[[ 1.  0.]\n",
      " [-3.  1.]]\n",
      "[[1 3]\n",
      " [0 1]]\n",
      "Determinant of the matrix2 is:  1.0\n",
      "Solution of the system of linear equations are:  [0. 4. 2.]\n",
      "The eigenValues of the matrix3 are:  [1. 2. 3.]\n"
     ]
    }
   ],
   "source": [
    "coefficient = np.array([[1, 1, 1], \n",
    "             \t\t[1, 2, 3],\n",
    "                    [2, 4, 7]])\n",
    "\n",
    "matrix1 = np.array([6, 14, 30])\n",
    "\n",
    "matrix2 = np.array([[1, 0],\n",
    "                    [3, 1]])\n",
    "\n",
    "matrix3 = np.array([[-1, 4, -2],\n",
    "                    [-3, 4, 0],\n",
    "                    [-3, 1, 3]])\n",
    "\n",
    "inverse = np.linalg.inv(matrix2)\n",
    "transpose = np.transpose(matrix2)\n",
    "determinant = np.linalg.det(matrix2)\n",
    "\n",
    "solution = np.linalg.solve(coefficient, matrix1)  #solve the system of linear equation\n",
    "\n",
    "eigen_values = np.linalg.eigvals(matrix3)\n",
    "\n",
    "print(inverse)\n",
    "print(transpose)\n",
    "print(\"Determinant of the matrix2 is: \", determinant)\n",
    "print(\"Solution of the system of linear equations are: \", solution)\n",
    "print(\"The eigenValues of the matrix3 are: \", eigen_values)\n"
   ]
  },
  {
   "cell_type": "code",
   "execution_count": null,
   "id": "fa80b519-83fa-4521-8c4a-becb889abf95",
   "metadata": {
    "scrolled": true
   },
   "outputs": [],
   "source": []
  }
 ],
 "metadata": {
  "kernelspec": {
   "display_name": "Python 3 (ipykernel)",
   "language": "python",
   "name": "python3"
  },
  "language_info": {
   "codemirror_mode": {
    "name": "ipython",
    "version": 3
   },
   "file_extension": ".py",
   "mimetype": "text/x-python",
   "name": "python",
   "nbconvert_exporter": "python",
   "pygments_lexer": "ipython3",
   "version": "3.11.2"
  },
  "widgets": {
   "application/vnd.jupyter.widget-state+json": {
    "state": {},
    "version_major": 2,
    "version_minor": 0
   }
  }
 },
 "nbformat": 4,
 "nbformat_minor": 5
}
